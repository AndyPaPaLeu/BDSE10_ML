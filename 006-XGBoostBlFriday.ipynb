{
 "cells": [
  {
   "cell_type": "markdown",
   "metadata": {},
   "source": [
    "# 本筆記目標是學習使用強大的XGBoost演算法"
   ]
  },
  {
   "cell_type": "markdown",
   "metadata": {},
   "source": [
    "---"
   ]
  },
  {
   "cell_type": "markdown",
   "metadata": {},
   "source": [
    "# 參考連結\n",
    "\n",
    "[XGBOOST參數設定](https://github.com/dmlc/xgboost/blob/master/doc/parameter.md)\n",
    "\n",
    "[XGBOOST簡介](http://xgboost.readthedocs.io/en/latest/python/python_intro.html)\n",
    "\n",
    "[XGBOOST支持GPU的說明](https://xgboost.readthedocs.io/en/latest/gpu/index.html)\n",
    "\n",
    "# 索引\n",
    "\n",
    "[1. 整理資料](#1.-整理資料)\n",
    "\n",
    "[2. 訓練資料](#2.-訓練資料)\n",
    "\n",
    "[3. 檢視訓練情形](#3.-檢視訓練情形)\n",
    "\n",
    "[4. 檢視各欄位重要性](#4.-檢視各欄位重要性)\n",
    "\n",
    "[5. 以$R^2$評估回歸結果](#5.-以$R^2$評估回歸結果)"
   ]
  },
  {
   "cell_type": "markdown",
   "metadata": {},
   "source": [
    "---"
   ]
  },
  {
   "cell_type": "code",
   "execution_count": null,
   "metadata": {},
   "outputs": [],
   "source": [
    "import pandas as pd\n",
    "import numpy as np\n",
    "\n",
    "import matplotlib.pyplot as plt\n",
    "%matplotlib inline\n",
    "import seaborn as sns\n",
    "sns.set()\n",
    "\n",
    "from sklearn.model_selection import train_test_split\n",
    "from sklearn.metrics import accuracy_score"
   ]
  },
  {
   "cell_type": "code",
   "execution_count": null,
   "metadata": {},
   "outputs": [],
   "source": [
    "import xgboost as xgb\n",
    "xgb.__version__"
   ]
  },
  {
   "cell_type": "markdown",
   "metadata": {},
   "source": [
    "### 1. 整理資料"
   ]
  },
  {
   "cell_type": "code",
   "execution_count": null,
   "metadata": {},
   "outputs": [],
   "source": [
    "df=pd.read_csv('../datasets/blFriday/train.csv') # 載入資料"
   ]
  },
  {
   "cell_type": "code",
   "execution_count": null,
   "metadata": {},
   "outputs": [],
   "source": [
    "df.head(3)"
   ]
  },
  {
   "cell_type": "code",
   "execution_count": null,
   "metadata": {},
   "outputs": [],
   "source": [
    "print('補空值前:')\n",
    "print(df.isnull().sum())  # 查看各欄位空值狀態\n",
    "\n",
    "df=df.fillna(0)           # 補空值\n",
    "\n",
    "print('\\n補空值後:')\n",
    "print(df.isnull().sum())  # 查看各欄位空值狀態"
   ]
  },
  {
   "cell_type": "code",
   "execution_count": null,
   "metadata": {},
   "outputs": [],
   "source": [
    "# 除了最後一欄位是目標，其餘欄位皆為用來預測目標的特徵\n",
    "x=df.iloc[:,0:11]\n",
    "target=df['Purchase']"
   ]
  },
  {
   "cell_type": "code",
   "execution_count": null,
   "metadata": {},
   "outputs": [],
   "source": [
    "# 以pd.factorize()方法，將類別資料編碼為dummy code\n",
    "dataEncoded=pd.DataFrame()\n",
    "encInfo={}\n",
    "for col in x.columns:\n",
    "    facorized=pd.factorize(x[col])\n",
    "\n",
    "    dataEncoded[col]=facorized[0]\n",
    "    encInfo[col]=facorized[1]"
   ]
  },
  {
   "cell_type": "code",
   "execution_count": null,
   "metadata": {},
   "outputs": [],
   "source": [
    "# 以scikit-learn內建的train, test split, 將資料分成70%訓練，30%測試\n",
    "trainX,testX,trainY,testY=train_test_split(dataEncoded,target,\n",
    "                                           test_size=0.3)"
   ]
  },
  {
   "cell_type": "code",
   "execution_count": null,
   "metadata": {},
   "outputs": [],
   "source": [
    "# 確認一下資料形狀\n",
    "print('size of the train data (x):\\t',trainX.shape)\n",
    "print('size of the train data (x):\\t',trainY.shape)\n",
    "print('size of the test data (y):\\t',testX.shape)\n",
    "print('size of the test data (y):\\t',testY.shape)"
   ]
  },
  {
   "cell_type": "code",
   "execution_count": null,
   "metadata": {},
   "outputs": [],
   "source": [
    "# 將資料存成xgboost要求的型態\n",
    "data_train = xgb.DMatrix( trainX, label=trainY)\n",
    "data_test  = xgb.DMatrix( testX, label=testY)"
   ]
  },
  {
   "cell_type": "markdown",
   "metadata": {},
   "source": [
    "[回索引](#索引)"
   ]
  },
  {
   "cell_type": "markdown",
   "metadata": {},
   "source": [
    "### 2. 訓練資料"
   ]
  },
  {
   "cell_type": "code",
   "execution_count": null,
   "metadata": {},
   "outputs": [],
   "source": [
    "%%time\n",
    "\n",
    "#給予模型參數，告知演算法該如何訓練模型\n",
    "param = {}\n",
    "param['objective'] = 'reg:linear' # 做線性回歸\n",
    "param['tree_method'] = 'hist'\n",
    "param['silent']=1\n",
    "param['max_depth']=10\n",
    "eval_list  = [(data_train,'train'),(data_test,'test')]\n",
    "num_round = 50\n",
    "eval_history={}\n",
    "\n",
    "# 訓練模型\n",
    "model = xgb.train( param, data_train, num_round,eval_list,\n",
    "                  evals_result=eval_history,verbose_eval=False)"
   ]
  },
  {
   "cell_type": "code",
   "execution_count": null,
   "metadata": {},
   "outputs": [],
   "source": [
    "# 若有GPU, 可則執行以下程式碼來加速訓練。\n",
    "\n",
    "# %%time\n",
    "\n",
    "# #給予模型參數，告知演算法該如何訓練模型\n",
    "# param = {}\n",
    "# param['objective'] = 'reg:linear'\n",
    "# param['n_gpus']=1\n",
    "# param['gpu_id']=0\n",
    "# param['tree_method'] = 'gpu_hist'\n",
    "# param['silent']=1\n",
    "# param['max_depth']=6\n",
    "# eval_list  = [(data_train,'train'),(data_test,'test')]\n",
    "# num_round = 50\n",
    "# eval_history={}\n",
    "\n",
    "# # 訓練模型\n",
    "# model = xgb.train( param, data_train, num_round,eval_list,\n",
    "#                   evals_result=eval_history,verbose_eval=False)"
   ]
  },
  {
   "cell_type": "code",
   "execution_count": null,
   "metadata": {},
   "outputs": [],
   "source": [
    "rmse_train=eval_history['train']['rmse']\n",
    "rmse_test=eval_history['test']['rmse']"
   ]
  },
  {
   "cell_type": "markdown",
   "metadata": {},
   "source": [
    "[回索引](#索引)"
   ]
  },
  {
   "cell_type": "markdown",
   "metadata": {},
   "source": [
    "### 3. 檢視訓練情形"
   ]
  },
  {
   "cell_type": "code",
   "execution_count": null,
   "metadata": {},
   "outputs": [],
   "source": [
    "plt.plot(rmse_train,ms=10,marker='.',label='train_eval')\n",
    "plt.plot(rmse_test,ms=10,marker='v',label='test_eval')\n",
    "plt.legend()\n",
    "plt.show()"
   ]
  },
  {
   "cell_type": "code",
   "execution_count": null,
   "metadata": {},
   "outputs": [],
   "source": [
    "# 檢視最後rms error\n",
    "model.eval(data_test)"
   ]
  },
  {
   "cell_type": "markdown",
   "metadata": {},
   "source": [
    "[回索引](#索引)"
   ]
  },
  {
   "cell_type": "markdown",
   "metadata": {},
   "source": [
    "### 4. 檢視各欄位重要性"
   ]
  },
  {
   "cell_type": "code",
   "execution_count": null,
   "metadata": {},
   "outputs": [],
   "source": [
    "from xgboost import plot_importance\n",
    "plot_importance(model)\n",
    "plt.show()"
   ]
  },
  {
   "cell_type": "markdown",
   "metadata": {},
   "source": [
    "[回索引](#索引)"
   ]
  },
  {
   "cell_type": "markdown",
   "metadata": {},
   "source": [
    "### 5. 以$R^2$評估回歸結果"
   ]
  },
  {
   "cell_type": "code",
   "execution_count": null,
   "metadata": {},
   "outputs": [],
   "source": [
    "from sklearn.metrics import r2_score\n",
    "testY_pred=model.predict(data_test)\n",
    "r2_score(testY, testY_pred)"
   ]
  },
  {
   "cell_type": "code",
   "execution_count": null,
   "metadata": {},
   "outputs": [],
   "source": [
    "trainY_pred = model.predict(data_train)\n",
    "r2_score(trainY, trainY_pred)"
   ]
  },
  {
   "cell_type": "markdown",
   "metadata": {},
   "source": [
    "在訓練資料的表現是$R^2 =0.78$, 在測試資料的表現是$R^2 = 0.73$"
   ]
  },
  {
   "cell_type": "markdown",
   "metadata": {},
   "source": [
    "[回索引](#索引)"
   ]
  },
  {
   "cell_type": "markdown",
   "metadata": {},
   "source": [
    "---"
   ]
  },
  {
   "cell_type": "markdown",
   "metadata": {},
   "source": [
    "#### 練習1：增加樹的深度，看模型準確率有什麼變化"
   ]
  },
  {
   "cell_type": "code",
   "execution_count": null,
   "metadata": {},
   "outputs": [],
   "source": [
    "# 練習於此\n",
    "# .."
   ]
  },
  {
   "cell_type": "markdown",
   "metadata": {},
   "source": [
    "#### 練習2：控制L1/L2規範項的強度，看模型準確率有無變化"
   ]
  },
  {
   "cell_type": "code",
   "execution_count": null,
   "metadata": {},
   "outputs": [],
   "source": [
    "# 練習於此\n",
    "# .."
   ]
  },
  {
   "cell_type": "markdown",
   "metadata": {},
   "source": [
    "#### 練習3：去掉Purchase欄位中的離群值再來建立模型"
   ]
  },
  {
   "cell_type": "code",
   "execution_count": null,
   "metadata": {},
   "outputs": [],
   "source": [
    "# 練習於此\n",
    "# .."
   ]
  }
 ],
 "metadata": {
  "kernelspec": {
   "display_name": "Python 3",
   "language": "python",
   "name": "python3"
  },
  "language_info": {
   "codemirror_mode": {
    "name": "ipython",
    "version": 3
   },
   "file_extension": ".py",
   "mimetype": "text/x-python",
   "name": "python",
   "nbconvert_exporter": "python",
   "pygments_lexer": "ipython3",
   "version": "3.6.5"
  }
 },
 "nbformat": 4,
 "nbformat_minor": 2
}
