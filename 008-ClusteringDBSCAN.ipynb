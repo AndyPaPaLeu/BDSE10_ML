{
 "cells": [
  {
   "cell_type": "markdown",
   "metadata": {},
   "source": [
    "# K-means & DBSCAN"
   ]
  },
  {
   "cell_type": "code",
   "execution_count": null,
   "metadata": {},
   "outputs": [],
   "source": [
    "%matplotlib inline\n",
    "import numpy as np\n",
    "import matplotlib.pyplot as plt\n",
    "from scipy import stats"
   ]
  },
  {
   "cell_type": "code",
   "execution_count": null,
   "metadata": {},
   "outputs": [],
   "source": [
    "from sklearn.datasets import make_moons\n",
    "X, y = make_moons(n_samples=200,\n",
    "                  noise=0.05,\n",
    "                  random_state=0)\n",
    "plt.scatter(X[:,0],X[:,1])\n",
    "plt.show()"
   ]
  },
  {
   "cell_type": "markdown",
   "metadata": {},
   "source": [
    "## 1. K-means"
   ]
  },
  {
   "cell_type": "code",
   "execution_count": null,
   "metadata": {},
   "outputs": [],
   "source": [
    "from sklearn.cluster import KMeans\n",
    "km = KMeans(n_clusters=2,random_state=0)\n",
    "y_km = km.fit_predict(X)\n",
    "\n",
    "plt.scatter(X[y_km==0,0],X[y_km==0,1],\n",
    "            c='lightblue',\n",
    "            marker='o', \n",
    "            s=40, \n",
    "            label='cluster 1')\n",
    "plt.scatter(X[y_km==1,0],X[y_km==1,1],\n",
    "            c='red',\n",
    "            marker='s',\n",
    "            s=40,\n",
    "            label='cluster 2'\n",
    "           )\n",
    "plt.title('K-means Clustering')"
   ]
  },
  {
   "cell_type": "markdown",
   "metadata": {},
   "source": [
    "## 2. DBSCAN "
   ]
  },
  {
   "cell_type": "code",
   "execution_count": null,
   "metadata": {},
   "outputs": [],
   "source": [
    "from sklearn.cluster import DBSCAN\n",
    "db = DBSCAN(eps=0.2,\n",
    "            min_samples=5,\n",
    "            metric='euclidean')\n",
    "\n",
    "y_db = db.fit_predict(X)\n",
    "\n",
    "plt.scatter(X[y_db==0,0],X[y_db==0,1],\n",
    "            c='lightblue',\n",
    "            marker='o', \n",
    "            s=40, \n",
    "            label='cluster 1')\n",
    "plt.scatter(X[y_db==1,0],X[y_db==1,1],\n",
    "            c='red',\n",
    "            marker='s',\n",
    "            s=40,\n",
    "            label='cluster 2'\n",
    "           )\n",
    "plt.title('DBSCAN')"
   ]
  },
  {
   "cell_type": "code",
   "execution_count": null,
   "metadata": {},
   "outputs": [],
   "source": []
  }
 ],
 "metadata": {
  "kernelspec": {
   "display_name": "Python 3",
   "language": "python",
   "name": "python3"
  },
  "language_info": {
   "codemirror_mode": {
    "name": "ipython",
    "version": 3
   },
   "file_extension": ".py",
   "mimetype": "text/x-python",
   "name": "python",
   "nbconvert_exporter": "python",
   "pygments_lexer": "ipython3",
   "version": "3.6.5"
  }
 },
 "nbformat": 4,
 "nbformat_minor": 2
}
