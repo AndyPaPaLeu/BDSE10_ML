{
 "cells": [
  {
   "cell_type": "code",
   "execution_count": null,
   "metadata": {},
   "outputs": [],
   "source": [
    "import pandas as pd\n",
    "import matplotlib.pyplot as plt\n",
    "%matplotlib inline\n",
    "import seaborn as sns\n",
    "sns.set()\n",
    "import numpy as np\n",
    "import re\n",
    "\n",
    "from sklearn import tree\n",
    "from sklearn.linear_model import LogisticRegression"
   ]
  },
  {
   "cell_type": "markdown",
   "metadata": {},
   "source": [
    "### 將檔案存為Pandas DataFrame"
   ]
  },
  {
   "cell_type": "code",
   "execution_count": null,
   "metadata": {},
   "outputs": [],
   "source": [
    "dfTrain=pd.read_csv(\"../datasets/titanic/titanic_train.csv\") # 訓練資料\n",
    "dfTest=pd.read_csv(\"../datasets/titanic/titanic_test.csv\")   # 測試資料"
   ]
  },
  {
   "cell_type": "code",
   "execution_count": null,
   "metadata": {},
   "outputs": [],
   "source": [
    "dfTrain.info()"
   ]
  },
  {
   "cell_type": "markdown",
   "metadata": {},
   "source": [
    "### 看每個欄位是否有重複值？"
   ]
  },
  {
   "cell_type": "code",
   "execution_count": null,
   "metadata": {},
   "outputs": [],
   "source": [
    "dfTrain.shape"
   ]
  },
  {
   "cell_type": "code",
   "execution_count": null,
   "metadata": {},
   "outputs": [],
   "source": [
    "dfTrain.apply(lambda x:x.unique().shape[0],axis=0)"
   ]
  },
  {
   "cell_type": "code",
   "execution_count": null,
   "metadata": {},
   "outputs": [],
   "source": [
    "set(dfTrain[\"Pclass\"])"
   ]
  },
  {
   "cell_type": "code",
   "execution_count": null,
   "metadata": {},
   "outputs": [],
   "source": [
    "dfTrain.shape"
   ]
  },
  {
   "cell_type": "code",
   "execution_count": null,
   "metadata": {},
   "outputs": [],
   "source": [
    "(dfTrain.apply(lambda x:x.unique().shape[0],axis=0)/dfTrain.shape[0]).plot(kind='bar',rot=45)"
   ]
  },
  {
   "cell_type": "markdown",
   "metadata": {},
   "source": [
    "* 上圖中，若欄位所對應的y值小，則代表該欄位的值有高度重複的現象。也就是說，該欄位可能為類別型變數。而若y值=1,則代表該欄位無重複值，有可能為索引或是連續型變數。"
   ]
  },
  {
   "cell_type": "markdown",
   "metadata": {},
   "source": [
    "### 看欄位是否有空值？"
   ]
  },
  {
   "cell_type": "code",
   "execution_count": null,
   "metadata": {},
   "outputs": [],
   "source": [
    "dfTrain.isnull().any()"
   ]
  },
  {
   "cell_type": "code",
   "execution_count": null,
   "metadata": {},
   "outputs": [],
   "source": [
    "dfTrain.isnull().sum().plot(kind='bar',rot=45,title='number of missing values')"
   ]
  },
  {
   "cell_type": "markdown",
   "metadata": {},
   "source": [
    "由上圖得知，Age, Cabin和Embarked這三個欄位含有空值。"
   ]
  },
  {
   "cell_type": "code",
   "execution_count": null,
   "metadata": {},
   "outputs": [],
   "source": [
    "cmap=sns.light_palette(\"navy\", reverse=False)\n",
    "sns.heatmap(dfTrain.isnull().astype(np.int8),yticklabels=False,cmap=cmap)"
   ]
  },
  {
   "cell_type": "markdown",
   "metadata": {},
   "source": [
    "### 探究：性別(Sex), 艙等(Pclass)和年齡(Age)，是否會影響生還與否(Survived)？"
   ]
  },
  {
   "cell_type": "code",
   "execution_count": null,
   "metadata": {},
   "outputs": [],
   "source": [
    "def trans(x):\n",
    "    if x<=12:\n",
    "        return \"children\"\n",
    "    elif x>12:\n",
    "        return \"non_children\"\n",
    "    else:\n",
    "        return np.NaN\n",
    "\n",
    "dfTrain[\"AgeInfo\"]=dfTrain[\"Age\"].apply(trans)\n",
    "dfTest[\"AgeInfo\"]=dfTest[\"Age\"].apply(trans)"
   ]
  },
  {
   "cell_type": "code",
   "execution_count": null,
   "metadata": {},
   "outputs": [],
   "source": [
    "dfTmp=dfTrain.groupby([\"Pclass\",\"Sex\"])[\"Survived\"].agg([np.mean,np.std,np.sum,len])\n",
    "dfTmp=dfTmp.reset_index()\n",
    "dfTmp"
   ]
  },
  {
   "cell_type": "code",
   "execution_count": null,
   "metadata": {},
   "outputs": [],
   "source": [
    "fig,axes=plt.subplots(1,3,figsize=(10,3),sharey=True)\n",
    "groups=dfTmp.groupby(\"Pclass\")\n",
    "\n",
    "for idx,(name,group) in enumerate(groups):\n",
    "    axes[idx].bar(x=group[\"Sex\"],height=group[\"mean\"],\n",
    "                  color=[\"darkgreen\",\"darkblue\"])\n",
    "    axes[idx].set_title(\"Pclass = %i\"%name)"
   ]
  },
  {
   "cell_type": "markdown",
   "metadata": {},
   "source": [
    "* 無論何種艙等，女性生還率皆高於男性至少一倍以上。"
   ]
  },
  {
   "cell_type": "markdown",
   "metadata": {},
   "source": [
    "利用Seaborn，可簡單的執行一行指令即得到上圖："
   ]
  },
  {
   "cell_type": "code",
   "execution_count": null,
   "metadata": {},
   "outputs": [],
   "source": [
    "sns.catplot(data=dfTrain,col=\"Pclass\",x=\"Sex\",y=\"Survived\",kind=\"bar\")"
   ]
  },
  {
   "cell_type": "code",
   "execution_count": null,
   "metadata": {},
   "outputs": [],
   "source": [
    "g=sns.catplot(data=dfTrain,col=\"Pclass\",x=\"Sex\",y=\"Survived\",kind=\"bar\")"
   ]
  },
  {
   "cell_type": "code",
   "execution_count": null,
   "metadata": {},
   "outputs": [],
   "source": [
    "g=sns.catplot(data=dfTrain,col=\"Pclass\",x=\"Sex\",hue=\"AgeInfo\",y=\"Survived\",kind=\"bar\")"
   ]
  },
  {
   "cell_type": "code",
   "execution_count": null,
   "metadata": {},
   "outputs": [],
   "source": [
    "g=sns.countplot(\"Pclass\",hue=\"Sex\",data=dfTrain)"
   ]
  },
  {
   "cell_type": "code",
   "execution_count": null,
   "metadata": {},
   "outputs": [],
   "source": [
    "g=sns.countplot(\"Pclass\",hue=\"AgeInfo\",data=dfTrain)"
   ]
  },
  {
   "cell_type": "code",
   "execution_count": null,
   "metadata": {},
   "outputs": [],
   "source": [
    "dfTrain[\"famSize\"]=dfTrain[\"SibSp\"]+dfTrain[\"Parch\"]\n",
    "dfTest[\"famSize\"]=dfTest[\"SibSp\"]+dfTest[\"Parch\"]"
   ]
  },
  {
   "cell_type": "code",
   "execution_count": null,
   "metadata": {},
   "outputs": [],
   "source": [
    "g=sns.countplot(\"Pclass\",hue=\"famSize\",data=dfTrain)"
   ]
  },
  {
   "cell_type": "markdown",
   "metadata": {},
   "source": [
    "* 三等艙單身的人多，也相較於其他艙等，比較有大一些的家庭。"
   ]
  },
  {
   "cell_type": "code",
   "execution_count": null,
   "metadata": {},
   "outputs": [],
   "source": [
    "ax=dfTrain[[\"famSize\",\"Survived\"]].groupby(\"famSize\").count().plot(kind=\"bar\")"
   ]
  },
  {
   "cell_type": "markdown",
   "metadata": {},
   "source": [
    "* 單身一人，沒有家庭的人佔大多數。有超過兩個親人的人不多。"
   ]
  },
  {
   "cell_type": "code",
   "execution_count": null,
   "metadata": {},
   "outputs": [],
   "source": [
    "g=sns.catplot(x=\"famSize\",y=\"Survived\",data=dfTrain,kind=\"bar\",ci=None)\n",
    "g.set_ylabels(\"Survival Rate\")\n",
    "g.set_xlabels(\"Family Size\")"
   ]
  },
  {
   "cell_type": "markdown",
   "metadata": {},
   "source": [
    "* 小家庭(1-3人)較容易生還。"
   ]
  },
  {
   "cell_type": "code",
   "execution_count": null,
   "metadata": {},
   "outputs": [],
   "source": [
    "g=sns.catplot(x=\"famSize\",y=\"Survived\",hue='Sex',data=dfTrain,kind=\"bar\",ci=None)\n",
    "g.set_ylabels(\"Survival Rate\")\n",
    "g.set_xlabels(\"Family Size\")"
   ]
  },
  {
   "cell_type": "markdown",
   "metadata": {},
   "source": [
    "* 家室數量$\\leq 3$時，男性生還率與家室數量成正比。"
   ]
  },
  {
   "cell_type": "code",
   "execution_count": null,
   "metadata": {},
   "outputs": [],
   "source": [
    "g=sns.catplot(x=\"famSize\",y=\"Survived\",hue='AgeInfo',\n",
    "                 data=dfTrain[[\"famSize\",\"Survived\",\"AgeInfo\"]].dropna(how=\"any\"),\n",
    "                 kind=\"bar\",ci=None)\n",
    "g.set_ylabels(\"Survival Rate\")\n",
    "g.set_xlabels(\"Family Size\")"
   ]
  },
  {
   "cell_type": "markdown",
   "metadata": {},
   "source": [
    "* 小孩生還率較非小孩高。\n",
    "\n",
    "    但家庭太大則不一定。不過，家庭大時，小孩樣本數很少，所以也許沒有參考性。"
   ]
  },
  {
   "cell_type": "code",
   "execution_count": null,
   "metadata": {},
   "outputs": [],
   "source": [
    "g=sns.countplot(\"famSize\",hue='AgeInfo',\n",
    "                data=dfTrain[[\"famSize\",\"AgeInfo\"]].dropna(how=\"any\"))"
   ]
  },
  {
   "cell_type": "markdown",
   "metadata": {},
   "source": [
    "---"
   ]
  },
  {
   "cell_type": "markdown",
   "metadata": {},
   "source": [
    "### 座位(Cabin)"
   ]
  },
  {
   "cell_type": "code",
   "execution_count": null,
   "metadata": {},
   "outputs": [],
   "source": [
    "print(\"座艙資料筆數=\\t\", len( dfTrain[\"Cabin\"] ) )\n",
    "print(\"座艙空值數=\\t\",dfTrain[\"Cabin\"].isnull().sum() )"
   ]
  },
  {
   "cell_type": "code",
   "execution_count": null,
   "metadata": {},
   "outputs": [],
   "source": [
    "dfTrain[\"Cabin\"].unique()"
   ]
  },
  {
   "cell_type": "markdown",
   "metadata": {},
   "source": [
    "座位號碼太多，目前我想要只保留字母。其實也許數字大小也有用，之後或可考慮利用數字大小。"
   ]
  },
  {
   "cell_type": "code",
   "execution_count": null,
   "metadata": {},
   "outputs": [],
   "source": [
    "def extractCabinLabel(name):\n",
    "    try:\n",
    "        matched=re.search(\"([A-z])(.*)\",name)\n",
    "        label=matched.groups()[0]\n",
    "    except:\n",
    "        label=np.NaN\n",
    "    return label\n",
    "\n",
    "dfTrain[\"Cabin\"]=dfTrain[\"Cabin\"].apply(extractCabinLabel)"
   ]
  },
  {
   "cell_type": "code",
   "execution_count": null,
   "metadata": {},
   "outputs": [],
   "source": [
    "print( dfTrain[\"Cabin\"].unique()    )\n",
    "print( dfTrain[\"Embarked\"].unique() )"
   ]
  },
  {
   "cell_type": "code",
   "execution_count": null,
   "metadata": {},
   "outputs": [],
   "source": [
    "groups=dfTrain[[\"Cabin\",\"Embarked\"] ].groupby(\"Embarked\")\n",
    "for name,group in groups:\n",
    "    print(name,group[\"Cabin\"].isnull().sum())"
   ]
  },
  {
   "cell_type": "markdown",
   "metadata": {},
   "source": [
    "* 很多從S港口登陸的人，我們不確定他們坐在什麼位置。"
   ]
  },
  {
   "cell_type": "markdown",
   "metadata": {},
   "source": [
    "### 探究座位(Cabin)是否影響生還與否(Survived)\n",
    "\n",
    "我們要問的是，是否座位是影響生還率的factor(因子)之一。故，以下使用Seaborn內建的sns.factorplot()來探究:"
   ]
  },
  {
   "cell_type": "code",
   "execution_count": null,
   "metadata": {},
   "outputs": [],
   "source": [
    "sns.catplot(x=\"Cabin\",y=\"Survived\",data=dfTrain[[\"Cabin\",\"Survived\"]].dropna(how=\"any\"),\n",
    "               kind=\"violin\",order=[\"A\",\"B\",\"C\",\"D\",\"E\",\"F\",\"G\",\"T\"])"
   ]
  },
  {
   "cell_type": "markdown",
   "metadata": {},
   "source": [
    "我們直接來計算每個座位區的生存率："
   ]
  },
  {
   "cell_type": "code",
   "execution_count": null,
   "metadata": {},
   "outputs": [],
   "source": [
    "dfTrain[[\"Cabin\",\"Survived\"]].dropna(how=\"any\").groupby(\"Cabin\").mean().plot(kind=\"bar\",rot=0)"
   ]
  },
  {
   "cell_type": "code",
   "execution_count": null,
   "metadata": {},
   "outputs": [],
   "source": [
    "g=sns.catplot(x=\"Cabin\",y=\"Survived\",hue=\"Pclass\",\n",
    "                 data=dfTrain[[\"Cabin\",\"Survived\",\"Pclass\"]].dropna(how=\"any\"),\n",
    "                 kind=\"violin\",\n",
    "                 order=[\"A\",\"B\",\"C\",\"D\",\"E\",\"F\",\"G\",\"T\"],size=5,aspect=2)\n",
    "g.fig.suptitle(\"Survived v.s. Cabin\")\n",
    "g.fig.subplots_adjust(top=0.9)"
   ]
  },
  {
   "cell_type": "markdown",
   "metadata": {},
   "source": [
    "* 由上圖可見，座位順序由A至G移動時，艙等等級隨之下降。"
   ]
  },
  {
   "cell_type": "markdown",
   "metadata": {},
   "source": [
    "---"
   ]
  },
  {
   "cell_type": "markdown",
   "metadata": {},
   "source": [
    "### 探究生還與否(Survived)和其他連續變數的相依性(correlation)"
   ]
  },
  {
   "cell_type": "code",
   "execution_count": null,
   "metadata": {},
   "outputs": [],
   "source": [
    "corDf=dfTrain.corr()\n",
    "corDf[\"Survived\"]"
   ]
  },
  {
   "cell_type": "code",
   "execution_count": null,
   "metadata": {},
   "outputs": [],
   "source": [
    "corDf[\"Survived\"].apply(lambda x:np.abs(x)).sort_values(ascending=False)"
   ]
  },
  {
   "cell_type": "markdown",
   "metadata": {},
   "source": [
    "* 由上表可見，連續型變數中，與Survived較為相關的變數有Pclass, Fare。\n",
    "\n",
    "Correlation可畫成熱圖："
   ]
  },
  {
   "cell_type": "code",
   "execution_count": null,
   "metadata": {},
   "outputs": [],
   "source": [
    "plt.figure(figsize=(10, 10))\n",
    "\n",
    "g=sns.heatmap(corDf, vmax=.8, linewidths=0.01,\n",
    "            square=True,annot=True,cmap='YlGnBu',linecolor=\"white\")\n",
    "plt.title('Correlation between features');"
   ]
  },
  {
   "cell_type": "markdown",
   "metadata": {},
   "source": [
    "---"
   ]
  },
  {
   "cell_type": "code",
   "execution_count": null,
   "metadata": {},
   "outputs": [],
   "source": []
  }
 ],
 "metadata": {
  "kernelspec": {
   "display_name": "Python 3",
   "language": "python",
   "name": "python3"
  },
  "language_info": {
   "codemirror_mode": {
    "name": "ipython",
    "version": 3
   },
   "file_extension": ".py",
   "mimetype": "text/x-python",
   "name": "python",
   "nbconvert_exporter": "python",
   "pygments_lexer": "ipython3",
   "version": "3.6.5"
  }
 },
 "nbformat": 4,
 "nbformat_minor": 2
}
